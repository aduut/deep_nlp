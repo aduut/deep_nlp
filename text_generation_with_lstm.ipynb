{
 "cells": [
  {
   "cell_type": "code",
   "execution_count": 1,
   "metadata": {},
   "outputs": [
    {
     "name": "stderr",
     "output_type": "stream",
     "text": [
      "Using TensorFlow backend.\n",
      "/Users/duutabib/anaconda3/lib/python3.6/importlib/_bootstrap.py:219: RuntimeWarning: compiletime version 3.5 of module 'tensorflow.python.framework.fast_tensor_util' does not match runtime version 3.6\n",
      "  return f(*args, **kwds)\n"
     ]
    }
   ],
   "source": [
    "import keras\n",
    "import numpy as np\n",
    "\n",
    "path= '/Users/duutabib/Downloads/bible.txt'\n",
    "bible_text =open(path).read().lower()\n"
   ]
  },
  {
   "cell_type": "code",
   "execution_count": 2,
   "metadata": {},
   "outputs": [
    {
     "name": "stdout",
     "output_type": "stream",
     "text": [
      "Corpus Length:  4556377\n"
     ]
    }
   ],
   "source": [
    "print('Corpus Length: ', len(bible_text))"
   ]
  },
  {
   "cell_type": "code",
   "execution_count": 3,
   "metadata": {},
   "outputs": [
    {
     "data": {
      "text/plain": [
       "4556377"
      ]
     },
     "execution_count": 3,
     "metadata": {},
     "output_type": "execute_result"
    }
   ],
   "source": [
    "len(bible_text)"
   ]
  },
  {
   "cell_type": "code",
   "execution_count": 4,
   "metadata": {
    "collapsed": true
   },
   "outputs": [],
   "source": [
    "def change_entropy(init_distrib, temp =0.5):\n",
    "    # this controls the entropy of the probability distribution from which we sample  \n",
    "    distrib = np.log(init_distrib)/ temp\n",
    "    distrib = np.exp( distrib)\n",
    "    return distrib/sum(distrib)\n",
    "    "
   ]
  },
  {
   "cell_type": "code",
   "execution_count": 13,
   "metadata": {},
   "outputs": [
    {
     "name": "stdout",
     "output_type": "stream",
     "text": [
      "Nos. of Sequences : 1518783\n"
     ]
    }
   ],
   "source": [
    "maxsentence_len = 30\n",
    "stride = 3\n",
    "sentences = []\n",
    "next_characters= []\n",
    "\n",
    "for i in range(0, len(bible_text)- maxsentence_len, stride) :\n",
    "    sentences.append(bible_text[i: i + maxsentence_len])\n",
    "    next_characters.append(bible_text[i+maxsentence_len])\n",
    "print(\"Nos. of Sequences :\", len(sentences))"
   ]
  },
  {
   "cell_type": "code",
   "execution_count": 14,
   "metadata": {},
   "outputs": [
    {
     "name": "stdout",
     "output_type": "stream",
     "text": [
      "unique character:  50\n"
     ]
    }
   ],
   "source": [
    "characters = sorted(list(set(bible_text)))\n",
    "print('unique character: ' , len(characters)) \n",
    "char_indices = dict((char, characters.index(char)) for char in characters)"
   ]
  },
  {
   "cell_type": "code",
   "execution_count": 15,
   "metadata": {},
   "outputs": [
    {
     "name": "stdout",
     "output_type": "stream",
     "text": [
      "Vectorization, precisely one-hot encoding...\n"
     ]
    }
   ],
   "source": [
    "print('Vectorization, precisely one-hot encoding...')\n",
    "x =np.empty((len(sentences), maxsentence_len, len(characters) ),dtype=np.bool)\n",
    "y =np.empty((len(sentences), len(characters)), dtype=np.bool)\n",
    "for i, sentence in enumerate(sentences):\n",
    "    for t, char in enumerate(sentence):\n",
    "        x[i,t, char_indices[char] ] =1\n",
    "        y[i, char_indices[next_characters[i]]] =1"
   ]
  },
  {
   "cell_type": "code",
   "execution_count": 16,
   "metadata": {},
   "outputs": [
    {
     "name": "stdout",
     "output_type": "stream",
     "text": [
      "_________________________________________________________________\n",
      "Layer (type)                 Output Shape              Param #   \n",
      "=================================================================\n",
      "lstm_6 (LSTM)                (None, 128)               91648     \n",
      "_________________________________________________________________\n",
      "dense_2 (Dense)              (None, 50)                6450      \n",
      "=================================================================\n",
      "Total params: 98,098\n",
      "Trainable params: 98,098\n",
      "Non-trainable params: 0\n",
      "_________________________________________________________________\n"
     ]
    }
   ],
   "source": [
    "#Buildingthe network\n",
    "\n",
    "from keras import layers\n",
    "lang_model = keras.models.Sequential()\n",
    "lang_model.add(layers.LSTM(128, input_shape=(maxsentence_len, len(characters))))\n",
    "lang_model.add(layers.Dense(len(characters), activation='softmax'))\n",
    "lang_model.summary()\n",
    "optimizer = keras.optimizers.RMSprop(lr=0.01)\n",
    "lang_model.compile(loss= 'categorical_crossentropy', optimizer=optimizer)\n",
    "\n",
    "def gen_sample(predicts, temp):\n",
    "    predicts = np.asarray(predicts).astype('float64')  \n",
    "    predicts = change_entropy(predicts, temp)\n",
    "    probs = np.random.multinomial(1, predicts, 1)\n",
    "    return np.argmax(probs)\n",
    "    \n"
   ]
  },
  {
   "cell_type": "code",
   "execution_count": null,
   "metadata": {},
   "outputs": [
    {
     "name": "stdout",
     "output_type": "stream",
     "text": [
      "epoch  1\n",
      "Epoch 1/1\n",
      "  19072/1518783 [..............................] - ETA: 9:13 - loss: 2.4924"
     ]
    }
   ],
   "source": [
    "import random \n",
    "import sys\n",
    "\n",
    "for epoch in range(1, 20):\n",
    "    print('epoch ', epoch)\n",
    "    lang_model.fit(x, y, batch_size=128, epochs=1 )\n",
    "    start_index = random.randint(0, len(bible_text)- maxsentence_len-1)\n",
    "    generated_text = bible_text[start_index: start_index + maxsentence_len]\n",
    "    print(' ---- Generating with seed: \"' + generated_text + '\" \\n')\n",
    "    \n",
    "    for temp in np.linspace(0.1, 1.5, 5):\n",
    "        print('-----temp :', temp)\n",
    "        sys.stdout.write(generated_text)\n",
    "        for i in range(400):\n",
    "            sampled = np.zeros((1, maxsentence_len, len(characters)))\n",
    "            for t, char in enumerate(generated_text):\n",
    "                sampled[0, t, char_indices[char]] =1\n",
    "                predicts =lang_model.predict(sampled, verbose=0)[0]\n",
    "                next_index = gen_sample(predicts, temp)\n",
    "                next_char = characters[next_index] \n",
    "                generated_text += next_char\n",
    "                generated_text = generated_text[1:]\n",
    "                sys.stdout.write(next_char)"
   ]
  },
  {
   "cell_type": "code",
   "execution_count": null,
   "metadata": {
    "collapsed": true
   },
   "outputs": [],
   "source": []
  }
 ],
 "metadata": {
  "kernelspec": {
   "display_name": "Python 3",
   "language": "python",
   "name": "python3"
  },
  "language_info": {
   "codemirror_mode": {
    "name": "ipython",
    "version": 3
   },
   "file_extension": ".py",
   "mimetype": "text/x-python",
   "name": "python",
   "nbconvert_exporter": "python",
   "pygments_lexer": "ipython3",
   "version": "3.6.3"
  }
 },
 "nbformat": 4,
 "nbformat_minor": 2
}
