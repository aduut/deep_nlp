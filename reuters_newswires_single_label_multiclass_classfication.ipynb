{
 "cells": [
  {
   "cell_type": "code",
   "execution_count": 37,
   "metadata": {},
   "outputs": [],
   "source": [
    "from keras.datasets import reuters\n",
    "import matplotlib.pyplot as plt"
   ]
  },
  {
   "cell_type": "code",
   "execution_count": 2,
   "metadata": {},
   "outputs": [
    {
     "name": "stdout",
     "output_type": "stream",
     "text": [
      "Downloading data from https://s3.amazonaws.com/text-datasets/reuters.npz\n",
      "2113536/2110848 [==============================] - 1s 1us/step\n"
     ]
    }
   ],
   "source": [
    "(train_data, train_labels), (test_data, test_labels) = reuters.load_data(num_words = 10000)"
   ]
  },
  {
   "cell_type": "code",
   "execution_count": 51,
   "metadata": {},
   "outputs": [],
   "source": [
    "import numpy as np\n",
    "\n",
    "def vectorize_sequences(sequences, dimension = 10000):\n",
    "    results = np.zeros((len(sequences), dimension))\n",
    "    for i, sequence in enumerate(sequences):\n",
    "        results[i, sequence] = 1\n",
    "    return results     "
   ]
  },
  {
   "cell_type": "code",
   "execution_count": 52,
   "metadata": {},
   "outputs": [],
   "source": [
    "x_train = vectorize_sequences(train_data)\n",
    "y_train = vectorize_sequences(test_data)"
   ]
  },
  {
   "cell_type": "code",
   "execution_count": 53,
   "metadata": {
    "collapsed": true
   },
   "outputs": [],
   "source": [
    "def to_one_hot(labels, dimension=46):\n",
    "    results = np.zeros((len(labels), dimension))\n",
    "    for i, label in enumerate(labels):\n",
    "        results[i,label]= 1\n",
    "    return results    \n",
    "    "
   ]
  },
  {
   "cell_type": "code",
   "execution_count": 54,
   "metadata": {},
   "outputs": [],
   "source": [
    "one_hot_train_labels= to_one_hot(train_labels)\n",
    "one_hot_test_labels= to_one_hot(test_labels)"
   ]
  },
  {
   "cell_type": "code",
   "execution_count": 55,
   "metadata": {},
   "outputs": [],
   "source": [
    "from keras import models\n",
    "from keras import layers\n",
    "\n",
    "model = models.Sequential()\n",
    "model.add(layers.Dense(64, activation='relu', input_shape=(10000,)))\n",
    "model.add(layers.Dense(64, activation ='relu'))\n",
    "model.add(layers.Dense(46, activation ='softmax' ))\n",
    "\n",
    "model.compile(optimizer ='rmsprop', loss='categorical_crossentropy', metrics=['accuracy'])"
   ]
  },
  {
   "cell_type": "code",
   "execution_count": 56,
   "metadata": {
    "collapsed": true
   },
   "outputs": [],
   "source": [
    "x_val = x_train[:1000 ]\n",
    "partial_x_train =x_train[1000:]\n",
    "\n",
    "y_val = one_hot_train_labels[:1000 ]\n",
    "partial_y_train =one_hot_train_labels[1000:]"
   ]
  },
  {
   "cell_type": "code",
   "execution_count": 57,
   "metadata": {},
   "outputs": [
    {
     "name": "stdout",
     "output_type": "stream",
     "text": [
      "Train on 7982 samples, validate on 1000 samples\n",
      "Epoch 1/20\n",
      "7982/7982 [==============================] - 2s 198us/step - loss: 2.7792 - acc: 0.5021 - val_loss: 1.8363 - val_acc: 0.6210\n",
      "Epoch 2/20\n",
      "7982/7982 [==============================] - 1s 136us/step - loss: 1.4846 - acc: 0.6919 - val_loss: 1.3462 - val_acc: 0.7010\n",
      "Epoch 3/20\n",
      "7982/7982 [==============================] - 1s 136us/step - loss: 1.0791 - acc: 0.7734 - val_loss: 1.1519 - val_acc: 0.7480\n",
      "Epoch 4/20\n",
      "7982/7982 [==============================] - 1s 162us/step - loss: 0.8472 - acc: 0.8220 - val_loss: 1.0460 - val_acc: 0.7710\n",
      "Epoch 5/20\n",
      "7982/7982 [==============================] - 1s 150us/step - loss: 0.6741 - acc: 0.8589 - val_loss: 0.9677 - val_acc: 0.8060\n",
      "Epoch 6/20\n",
      "7982/7982 [==============================] - 1s 141us/step - loss: 0.5387 - acc: 0.8887 - val_loss: 0.9418 - val_acc: 0.8040\n",
      "Epoch 7/20\n",
      "7982/7982 [==============================] - 1s 136us/step - loss: 0.4371 - acc: 0.9090 - val_loss: 0.8889 - val_acc: 0.8210\n",
      "Epoch 8/20\n",
      "7982/7982 [==============================] - 1s 137us/step - loss: 0.3538 - acc: 0.9271 - val_loss: 0.8894 - val_acc: 0.8210\n",
      "Epoch 9/20\n",
      "7982/7982 [==============================] - ETA: 0s - loss: 0.2944 - acc: 0.937 - 1s 139us/step - loss: 0.2931 - acc: 0.9374 - val_loss: 0.8867 - val_acc: 0.8160\n",
      "Epoch 10/20\n",
      "7982/7982 [==============================] - 1s 134us/step - loss: 0.2481 - acc: 0.9421 - val_loss: 0.8941 - val_acc: 0.8150\n",
      "Epoch 11/20\n",
      "7982/7982 [==============================] - 1s 137us/step - loss: 0.2149 - acc: 0.9470 - val_loss: 0.9240 - val_acc: 0.8160\n",
      "Epoch 12/20\n",
      "7982/7982 [==============================] - 1s 138us/step - loss: 0.1896 - acc: 0.9495 - val_loss: 0.9115 - val_acc: 0.8220\n",
      "Epoch 13/20\n",
      "7982/7982 [==============================] - 1s 134us/step - loss: 0.1705 - acc: 0.9536 - val_loss: 0.9240 - val_acc: 0.8180\n",
      "Epoch 14/20\n",
      "7982/7982 [==============================] - 1s 136us/step - loss: 0.1528 - acc: 0.9553 - val_loss: 0.9563 - val_acc: 0.8070\n",
      "Epoch 15/20\n",
      "7982/7982 [==============================] - 1s 144us/step - loss: 0.1440 - acc: 0.9533 - val_loss: 0.9616 - val_acc: 0.8190\n",
      "Epoch 16/20\n",
      "7982/7982 [==============================] - 1s 138us/step - loss: 0.1310 - acc: 0.9569 - val_loss: 1.0765 - val_acc: 0.7880\n",
      "Epoch 17/20\n",
      "7982/7982 [==============================] - 1s 137us/step - loss: 0.1274 - acc: 0.9573 - val_loss: 0.9887 - val_acc: 0.8120\n",
      "Epoch 18/20\n",
      "7982/7982 [==============================] - 1s 139us/step - loss: 0.1185 - acc: 0.9558 - val_loss: 1.0091 - val_acc: 0.8050\n",
      "Epoch 19/20\n",
      "7982/7982 [==============================] - 1s 137us/step - loss: 0.1188 - acc: 0.9583 - val_loss: 1.0384 - val_acc: 0.7980\n",
      "Epoch 20/20\n",
      "7982/7982 [==============================] - 1s 139us/step - loss: 0.1096 - acc: 0.9574 - val_loss: 1.0810 - val_acc: 0.8060\n"
     ]
    }
   ],
   "source": [
    "history = model.fit(partial_x_train, partial_y_train, epochs = 20, batch_size =512, validation_data=(x_val, y_val))"
   ]
  },
  {
   "cell_type": "code",
   "execution_count": 59,
   "metadata": {},
   "outputs": [
    {
     "data": {
      "image/png": "[encoded data removed]",
      "text/plain": [
       "<matplotlib.figure.Figure at 0x181e84a2b0>"
      ]
     },
     "metadata": {},
     "output_type": "display_data"
    }
   ],
   "source": [
    "epochs = range(1, len(history.history['loss']) +1) \n",
    "plt.plot(epochs, history.history['acc'], 'b')\n",
    "plt.plot(epochs, history.history['val_acc'], 'r') \n",
    "plt.show()"
   ]
  },
  {
   "cell_type": "code",
   "execution_count": 60,
   "metadata": {},
   "outputs": [
    {
     "data": {
      "image/png": "[encoded data removed]",
      "text/plain": [
       "<matplotlib.figure.Figure at 0x181fafe7f0>"
      ]
     },
     "metadata": {},
     "output_type": "display_data"
    }
   ],
   "source": [
    "plt.plot(epochs, history.history['loss'], 'b')\n",
    "plt.plot(epochs, history.history['val_loss'], 'r') \n",
    "plt.show()"
   ]
  },
  {
   "cell_type": "code",
   "execution_count": 65,
   "metadata": {},
   "outputs": [
    {
     "name": "stdout",
     "output_type": "stream",
     "text": [
      "0 0.502129792644\n",
      "1 0.691931846998\n",
      "2 0.773365070978\n",
      "3 0.821974443541\n",
      "4 0.858932597435\n",
      "5 0.888749687169\n",
      "6 0.90904535261\n",
      "7 0.927085942566\n",
      "8 0.93735905679\n",
      "9 0.942119769661\n",
      "10 0.94700576325\n",
      "11 0.94951139995\n",
      "12 0.953645702921\n",
      "13 0.955274366729\n",
      "14 0.95326985697\n",
      "15 0.956903032001\n",
      "16 0.957278878445\n",
      "17 0.95577549446\n",
      "18 0.958281133026\n",
      "19 0.957404160135\n"
     ]
    }
   ],
   "source": [
    "for i, j in enumerate(history.history['acc']):\n",
    "    print(i, j)"
   ]
  },
  {
   "cell_type": "code",
   "execution_count": null,
   "metadata": {
    "collapsed": true
   },
   "outputs": [],
   "source": []
  },
  {
   "cell_type": "code",
   "execution_count": 69,
   "metadata": {},
   "outputs": [
    {
     "name": "stdout",
     "output_type": "stream",
     "text": [
      "Train on 7982 samples, validate on 1000 samples\n",
      "Epoch 1/9\n",
      "7982/7982 [==============================] - 1s 164us/step - loss: 2.7292 - acc: 0.5041 - val_loss: 1.8010 - val_acc: 0.6380\n",
      "Epoch 2/9\n",
      "7982/7982 [==============================] - 1s 129us/step - loss: 1.4520 - acc: 0.7072 - val_loss: 1.3066 - val_acc: 0.7220\n",
      "Epoch 3/9\n",
      "7982/7982 [==============================] - 1s 135us/step - loss: 1.0606 - acc: 0.7746 - val_loss: 1.1540 - val_acc: 0.7440\n",
      "Epoch 4/9\n",
      "7982/7982 [==============================] - 1s 130us/step - loss: 0.8375 - acc: 0.8187 - val_loss: 1.0543 - val_acc: 0.7740\n",
      "Epoch 5/9\n",
      "7982/7982 [==============================] - 1s 127us/step - loss: 0.6693 - acc: 0.8596 - val_loss: 0.9796 - val_acc: 0.7950\n",
      "Epoch 6/9\n",
      "7982/7982 [==============================] - 1s 128us/step - loss: 0.5361 - acc: 0.8911 - val_loss: 0.9514 - val_acc: 0.7980\n",
      "Epoch 7/9\n",
      "7982/7982 [==============================] - 1s 129us/step - loss: 0.4322 - acc: 0.9109 - val_loss: 0.9123 - val_acc: 0.8100\n",
      "Epoch 8/9\n",
      "7982/7982 [==============================] - 1s 129us/step - loss: 0.3541 - acc: 0.9238 - val_loss: 0.8884 - val_acc: 0.8200\n",
      "Epoch 9/9\n",
      "7982/7982 [==============================] - 1s 131us/step - loss: 0.2935 - acc: 0.9370 - val_loss: 0.8925 - val_acc: 0.8180\n"
     ]
    }
   ],
   "source": [
    "modela = models.Sequential()\n",
    "modela.add(layers.Dense(64, activation = 'relu', input_shape=(10000,)))\n",
    "modela.add(layers.Dense(64, activation='relu'))\n",
    "modela.add(layers.Dense(46, activation='softmax'))\n",
    "\n",
    "modela.compile(optimizer = 'rmsprop', loss='categorical_crossentropy', metrics =['accuracy'])\n",
    "\n",
    "newhistory=modela.fit(partial_x_train, partial_y_train, batch_size = 512, epochs = 9,validation_data=(x_val, y_val) )\n"
   ]
  },
  {
   "cell_type": "code",
   "execution_count": 71,
   "metadata": {},
   "outputs": [
    {
     "data": {
      "image/png": "[encoded data removed]",
      "text/plain": [
       "<matplotlib.figure.Figure at 0x184dddbef0>"
      ]
     },
     "metadata": {},
     "output_type": "display_data"
    }
   ],
   "source": [
    "epoches = range(1, len(newhistory.history['loss'])+1)\n",
    "\n",
    "plt.plot(epoches, newhistory.history['loss'], 'b', label='loss')\n",
    "plt.plot(epoches, newhistory.history['val_loss'], 'r', label='Val loss') \n",
    "plt.legend()\n",
    "plt.show()"
   ]
  },
  {
   "cell_type": "code",
   "execution_count": 72,
   "metadata": {},
   "outputs": [
    {
     "data": {
      "image/png": "[encoded data removed]",
      "text/plain": [
       "<matplotlib.figure.Figure at 0x184de0f908>"
      ]
     },
     "metadata": {},
     "output_type": "display_data"
    }
   ],
   "source": [
    "plt.plot(epoches, newhistory.history['acc'], 'b', label='acc')\n",
    "plt.plot(epoches, newhistory.history['val_acc'], 'r', label='Val acc') \n",
    "plt.legend()\n",
    "plt.show()"
   ]
  },
  {
   "cell_type": "code",
   "execution_count": null,
   "metadata": {
    "collapsed": true
   },
   "outputs": [],
   "source": []
  }
 ],
 "metadata": {
  "kernelspec": {
   "display_name": "Python 3",
   "language": "python",
   "name": "python3"
  },
  "language_info": {
   "codemirror_mode": {
    "name": "ipython",
    "version": 3
   },
   "file_extension": ".py",
   "mimetype": "text/x-python",
   "name": "python",
   "nbconvert_exporter": "python",
   "pygments_lexer": "ipython3",
   "version": "3.6.3"
  }
 },
 "nbformat": 4,
 "nbformat_minor": 2
}
